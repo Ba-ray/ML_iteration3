{
  "cells": [
    {
      "cell_type": "code",
      "execution_count": null,
      "metadata": {
        "id": "2F-5vBXAjaw_"
      },
      "outputs": [],
      "source": [
        "import csv\n",
        "\n",
        "import numpy as np\n",
        "import tensorflow as tf\n",
        "from sklearn.model_selection import train_test_split\n",
        "\n",
        "RANDOM_SEED = 42"
      ]
    },
    {
      "cell_type": "code",
      "execution_count": null,
      "metadata": {
        "id": "6hBZWXXDk9Pv"
      },
      "outputs": [],
      "source": [
        "dataset = '../keypoint_training.csv'\n",
        "model_save_path = '../keypoint_classifier.hdf5'\n",
        "tflite_save_path = '../keypoint_classifier.tflite'"
      ]
    },
    {
      "cell_type": "code",
      "execution_count": null,
      "metadata": {
        "id": "VI4Mkpo1lI3a"
      },
      "outputs": [],
      "source": [
        "NUM_CLASSES = 4"
      ]
    },
    {
      "cell_type": "code",
      "execution_count": null,
      "metadata": {
        "id": "jKOEfOo3lLSD"
      },
      "outputs": [],
      "source": [
        "X_dataset = np.loadtxt(dataset, delimiter=',', dtype='float32', usecols=list(range(1, (21 * 2) + 1)))"
      ]
    },
    {
      "cell_type": "code",
      "execution_count": null,
      "metadata": {
        "id": "XwTYdGazlRYQ"
      },
      "outputs": [],
      "source": [
        "y_dataset = np.loadtxt(dataset, delimiter=',', dtype='int32', usecols=(0))"
      ]
    },
    {
      "cell_type": "code",
      "execution_count": null,
      "metadata": {
        "id": "C6kQzAs-lWt9"
      },
      "outputs": [],
      "source": [
        "X_train, X_test, y_train, y_test = train_test_split(X_dataset, y_dataset, train_size=0.75, random_state=RANDOM_SEED)"
      ]
    },
    {
      "cell_type": "code",
      "execution_count": null,
      "metadata": {
        "id": "itLLIzRSlZ27"
      },
      "outputs": [],
      "source": [
        "model = tf.keras.models.Sequential([\n",
        "    tf.keras.layers.Input((21 * 2, )),\n",
        "    tf.keras.layers.Dropout(0.2),\n",
        "    tf.keras.layers.Dense(20, activation='relu'),\n",
        "    tf.keras.layers.Dropout(0.4),\n",
        "    tf.keras.layers.Dense(10, activation='relu'),\n",
        "    tf.keras.layers.Dense(NUM_CLASSES, activation='softmax')\n",
        "])"
      ]
    },
    {
      "cell_type": "code",
      "execution_count": null,
      "metadata": {
        "colab": {
          "base_uri": "https://localhost:8080/"
        },
        "id": "4f8EBCVJlcvl",
        "outputId": "c6ed937d-d3c1-478f-c093-e6ca7c663631"
      },
      "outputs": [
        {
          "name": "stdout",
          "output_type": "stream",
          "text": [
            "Model: \"sequential_3\"\n",
            "_________________________________________________________________\n",
            " Layer (type)                Output Shape              Param #   \n",
            "=================================================================\n",
            " dropout_6 (Dropout)         (None, 42)                0         \n",
            "                                                                 \n",
            " dense_9 (Dense)             (None, 20)                860       \n",
            "                                                                 \n",
            " dropout_7 (Dropout)         (None, 20)                0         \n",
            "                                                                 \n",
            " dense_10 (Dense)            (None, 10)                210       \n",
            "                                                                 \n",
            " dense_11 (Dense)            (None, 4)                 44        \n",
            "                                                                 \n",
            "=================================================================\n",
            "Total params: 1114 (4.35 KB)\n",
            "Trainable params: 1114 (4.35 KB)\n",
            "Non-trainable params: 0 (0.00 Byte)\n",
            "_________________________________________________________________\n"
          ]
        }
      ],
      "source": [
        "model.summary()"
      ]
    },
    {
      "cell_type": "code",
      "execution_count": null,
      "metadata": {
        "id": "ed-JfARVlhC6"
      },
      "outputs": [],
      "source": [
        "# Model checkpoint callback\n",
        "cp_callback = tf.keras.callbacks.ModelCheckpoint(\n",
        "    model_save_path, verbose=1, save_weights_only=False)\n",
        "# Callback for early stopping\n",
        "es_callback = tf.keras.callbacks.EarlyStopping(patience=20, verbose=1)"
      ]
    },
    {
      "cell_type": "code",
      "execution_count": null,
      "metadata": {
        "id": "1Z3LH38fljR4"
      },
      "outputs": [],
      "source": [
        "# Model compilation\n",
        "model.compile(\n",
        "    optimizer='adam',\n",
        "    loss='sparse_categorical_crossentropy',\n",
        "    metrics=['accuracy']\n",
        ")"
      ]
    },
    {
      "cell_type": "code",
      "execution_count": null,
      "metadata": {
        "colab": {
          "base_uri": "https://localhost:8080/"
        },
        "id": "Mny9oz1EmA1D",
        "outputId": "2d5a6a6d-6fc5-4aeb-b2bc-12f469399490"
      },
      "outputs": [
        {
          "name": "stdout",
          "output_type": "stream",
          "text": [
            "Epoch 1/1000\n",
            "19/24 [======================>.......] - ETA: 0s - loss: 0.0228 - accuracy: 0.9926\n",
            "Epoch 1: saving model to /content/keypoint_classifier.hdf5\n",
            "24/24 [==============================] - 1s 14ms/step - loss: 0.0217 - accuracy: 0.9927 - val_loss: 0.0109 - val_accuracy: 0.9990\n",
            "Epoch 2/1000\n",
            "20/24 [========================>.....] - ETA: 0s - loss: 0.0197 - accuracy: 0.9945\n",
            "Epoch 2: saving model to /content/keypoint_classifier.hdf5\n",
            "24/24 [==============================] - 0s 7ms/step - loss: 0.0185 - accuracy: 0.9954 - val_loss: 0.0110 - val_accuracy: 0.9990\n",
            "Epoch 3/1000\n",
            "17/24 [====================>.........] - ETA: 0s - loss: 0.0173 - accuracy: 0.9949\n",
            "Epoch 3: saving model to /content/keypoint_classifier.hdf5\n",
            "24/24 [==============================] - 0s 7ms/step - loss: 0.0184 - accuracy: 0.9944 - val_loss: 0.0109 - val_accuracy: 0.9990\n",
            "Epoch 4/1000\n",
            "17/24 [====================>.........] - ETA: 0s - loss: 0.0209 - accuracy: 0.9926\n",
            "Epoch 4: saving model to /content/keypoint_classifier.hdf5\n",
            "24/24 [==============================] - 0s 7ms/step - loss: 0.0188 - accuracy: 0.9937 - val_loss: 0.0109 - val_accuracy: 0.9990\n",
            "Epoch 5/1000\n",
            "16/24 [===================>..........] - ETA: 0s - loss: 0.0171 - accuracy: 0.9941\n",
            "Epoch 5: saving model to /content/keypoint_classifier.hdf5\n",
            "24/24 [==============================] - 0s 7ms/step - loss: 0.0199 - accuracy: 0.9940 - val_loss: 0.0114 - val_accuracy: 0.9990\n",
            "Epoch 6/1000\n",
            "16/24 [===================>..........] - ETA: 0s - loss: 0.0199 - accuracy: 0.9932\n",
            "Epoch 6: saving model to /content/keypoint_classifier.hdf5\n",
            "24/24 [==============================] - 0s 7ms/step - loss: 0.0193 - accuracy: 0.9930 - val_loss: 0.0115 - val_accuracy: 0.9990\n",
            "Epoch 7/1000\n",
            "16/24 [===================>..........] - ETA: 0s - loss: 0.0169 - accuracy: 0.9937\n",
            "Epoch 7: saving model to /content/keypoint_classifier.hdf5\n",
            "24/24 [==============================] - 0s 7ms/step - loss: 0.0202 - accuracy: 0.9940 - val_loss: 0.0114 - val_accuracy: 0.9990\n",
            "Epoch 8/1000\n",
            "19/24 [======================>.......] - ETA: 0s - loss: 0.0163 - accuracy: 0.9947\n",
            "Epoch 8: saving model to /content/keypoint_classifier.hdf5\n",
            "24/24 [==============================] - 0s 6ms/step - loss: 0.0147 - accuracy: 0.9954 - val_loss: 0.0116 - val_accuracy: 0.9990\n",
            "Epoch 9/1000\n",
            "15/24 [=================>............] - ETA: 0s - loss: 0.0173 - accuracy: 0.9932\n",
            "Epoch 9: saving model to /content/keypoint_classifier.hdf5\n",
            "24/24 [==============================] - 0s 7ms/step - loss: 0.0166 - accuracy: 0.9940 - val_loss: 0.0119 - val_accuracy: 0.9990\n",
            "Epoch 10/1000\n",
            "17/24 [====================>.........] - ETA: 0s - loss: 0.0208 - accuracy: 0.9917\n",
            "Epoch 10: saving model to /content/keypoint_classifier.hdf5\n",
            "24/24 [==============================] - 0s 7ms/step - loss: 0.0189 - accuracy: 0.9930 - val_loss: 0.0118 - val_accuracy: 0.9990\n",
            "Epoch 11/1000\n",
            "16/24 [===================>..........] - ETA: 0s - loss: 0.0212 - accuracy: 0.9941\n",
            "Epoch 11: saving model to /content/keypoint_classifier.hdf5\n",
            "24/24 [==============================] - 0s 7ms/step - loss: 0.0200 - accuracy: 0.9937 - val_loss: 0.0123 - val_accuracy: 0.9990\n",
            "Epoch 12/1000\n",
            "17/24 [====================>.........] - ETA: 0s - loss: 0.0222 - accuracy: 0.9903\n",
            "Epoch 12: saving model to /content/keypoint_classifier.hdf5\n",
            "24/24 [==============================] - 0s 7ms/step - loss: 0.0199 - accuracy: 0.9917 - val_loss: 0.0124 - val_accuracy: 0.9990\n",
            "Epoch 13/1000\n",
            "16/24 [===================>..........] - ETA: 0s - loss: 0.0179 - accuracy: 0.9941\n",
            "Epoch 13: saving model to /content/keypoint_classifier.hdf5\n",
            "24/24 [==============================] - 0s 7ms/step - loss: 0.0200 - accuracy: 0.9937 - val_loss: 0.0127 - val_accuracy: 0.9990\n",
            "Epoch 14/1000\n",
            "16/24 [===================>..........] - ETA: 0s - loss: 0.0168 - accuracy: 0.9941\n",
            "Epoch 14: saving model to /content/keypoint_classifier.hdf5\n",
            "24/24 [==============================] - 0s 7ms/step - loss: 0.0161 - accuracy: 0.9947 - val_loss: 0.0127 - val_accuracy: 0.9990\n",
            "Epoch 15/1000\n",
            "18/24 [=====================>........] - ETA: 0s - loss: 0.0158 - accuracy: 0.9944\n",
            "Epoch 15: saving model to /content/keypoint_classifier.hdf5\n",
            "24/24 [==============================] - 0s 9ms/step - loss: 0.0171 - accuracy: 0.9937 - val_loss: 0.0127 - val_accuracy: 0.9990\n",
            "Epoch 16/1000\n",
            "14/24 [================>.............] - ETA: 0s - loss: 0.0142 - accuracy: 0.9944\n",
            "Epoch 16: saving model to /content/keypoint_classifier.hdf5\n",
            "24/24 [==============================] - 0s 7ms/step - loss: 0.0151 - accuracy: 0.9944 - val_loss: 0.0125 - val_accuracy: 0.9990\n",
            "Epoch 17/1000\n",
            "17/24 [====================>.........] - ETA: 0s - loss: 0.0178 - accuracy: 0.9931\n",
            "Epoch 17: saving model to /content/keypoint_classifier.hdf5\n",
            "24/24 [==============================] - 0s 6ms/step - loss: 0.0167 - accuracy: 0.9937 - val_loss: 0.0126 - val_accuracy: 0.9990\n",
            "Epoch 18/1000\n",
            " 1/24 [>.............................] - ETA: 0s - loss: 0.0099 - accuracy: 1.0000\n",
            "Epoch 18: saving model to /content/keypoint_classifier.hdf5\n",
            "24/24 [==============================] - 0s 4ms/step - loss: 0.0143 - accuracy: 0.9960 - val_loss: 0.0125 - val_accuracy: 0.9990\n",
            "Epoch 19/1000\n",
            " 1/24 [>.............................] - ETA: 0s - loss: 0.0069 - accuracy: 1.0000\n",
            "Epoch 19: saving model to /content/keypoint_classifier.hdf5\n",
            "24/24 [==============================] - 0s 5ms/step - loss: 0.0153 - accuracy: 0.9954 - val_loss: 0.0128 - val_accuracy: 0.9990\n",
            "Epoch 20/1000\n",
            "23/24 [===========================>..] - ETA: 0s - loss: 0.0161 - accuracy: 0.9942\n",
            "Epoch 20: saving model to /content/keypoint_classifier.hdf5\n",
            "24/24 [==============================] - 0s 5ms/step - loss: 0.0163 - accuracy: 0.9940 - val_loss: 0.0135 - val_accuracy: 0.9990\n",
            "Epoch 21/1000\n",
            " 1/24 [>.............................] - ETA: 0s - loss: 0.0089 - accuracy: 1.0000\n",
            "Epoch 21: saving model to /content/keypoint_classifier.hdf5\n",
            "24/24 [==============================] - 0s 4ms/step - loss: 0.0133 - accuracy: 0.9957 - val_loss: 0.0135 - val_accuracy: 0.9990\n",
            "Epoch 22/1000\n",
            " 1/24 [>.............................] - ETA: 0s - loss: 0.0079 - accuracy: 1.0000\n",
            "Epoch 22: saving model to /content/keypoint_classifier.hdf5\n",
            "24/24 [==============================] - 0s 4ms/step - loss: 0.0120 - accuracy: 0.9977 - val_loss: 0.0140 - val_accuracy: 0.9990\n",
            "Epoch 23/1000\n",
            " 1/24 [>.............................] - ETA: 0s - loss: 0.0042 - accuracy: 1.0000\n",
            "Epoch 23: saving model to /content/keypoint_classifier.hdf5\n",
            "24/24 [==============================] - 0s 4ms/step - loss: 0.0154 - accuracy: 0.9937 - val_loss: 0.0142 - val_accuracy: 0.9990\n",
            "Epoch 23: early stopping\n"
          ]
        },
        {
          "data": {
            "text/plain": [
              "<keras.src.callbacks.History at 0x7f49bcc627a0>"
            ]
          },
          "execution_count": 69,
          "metadata": {},
          "output_type": "execute_result"
        }
      ],
      "source": [
        "model.fit(\n",
        "    X_train,\n",
        "    y_train,\n",
        "    epochs=1000,\n",
        "    batch_size=128,\n",
        "    validation_data=(X_test, y_test),\n",
        "    callbacks=[cp_callback, es_callback]\n",
        ")"
      ]
    },
    {
      "cell_type": "code",
      "execution_count": null,
      "metadata": {
        "colab": {
          "base_uri": "https://localhost:8080/"
        },
        "id": "SCf4LhLUmD90",
        "outputId": "95917d60-a5b7-4a0b-d514-1fa9eec5f753"
      },
      "outputs": [
        {
          "name": "stdout",
          "output_type": "stream",
          "text": [
            "8/8 [==============================] - 0s 2ms/step - loss: 0.0142 - accuracy: 0.9990\n"
          ]
        }
      ],
      "source": [
        "val_loss, val_acc = model.evaluate(X_test, y_test, batch_size=128)"
      ]
    },
    {
      "cell_type": "code",
      "execution_count": null,
      "metadata": {
        "id": "3oyk5JJJmHqX"
      },
      "outputs": [],
      "source": [
        "model = tf.keras.models.load_model(model_save_path)"
      ]
    },
    {
      "cell_type": "code",
      "execution_count": null,
      "metadata": {
        "colab": {
          "base_uri": "https://localhost:8080/"
        },
        "id": "LfP7dLtfmKbN",
        "outputId": "8d04d339-d4e7-4d5c-fb32-8101e7e8057c"
      },
      "outputs": [
        {
          "name": "stdout",
          "output_type": "stream",
          "text": [
            "1/1 [==============================] - 0s 66ms/step\n",
            "[2.0917421e-10 4.7683577e-07 9.9999952e-01 1.7317996e-08]\n",
            "2\n"
          ]
        }
      ],
      "source": [
        "# Inference test\n",
        "predict_result = model.predict(np.array([X_test[0]]))\n",
        "print(np.squeeze(predict_result))\n",
        "print(np.argmax(np.squeeze(predict_result)))"
      ]
    },
    {
      "cell_type": "code",
      "execution_count": null,
      "metadata": {
        "colab": {
          "base_uri": "https://localhost:8080/",
          "height": 748
        },
        "id": "KmtRKKlSfycR",
        "outputId": "33f49955-98cf-45bf-fa4b-bc9f543fac6a"
      },
      "outputs": [
        {
          "name": "stdout",
          "output_type": "stream",
          "text": [
            "32/32 [==============================] - 0s 2ms/step\n"
          ]
        },
        {
          "data": {
            "image/png": "[encoded data removed]",
            "text/plain": [
              "<Figure size 700x600 with 2 Axes>"
            ]
          },
          "metadata": {},
          "output_type": "display_data"
        },
        {
          "name": "stdout",
          "output_type": "stream",
          "text": [
            "Classification Report\n",
            "              precision    recall  f1-score   support\n",
            "\n",
            "           0       1.00      1.00      1.00       240\n",
            "           1       1.00      1.00      1.00       210\n",
            "           2       1.00      1.00      1.00       250\n",
            "           3       1.00      1.00      1.00       307\n",
            "\n",
            "    accuracy                           1.00      1007\n",
            "   macro avg       1.00      1.00      1.00      1007\n",
            "weighted avg       1.00      1.00      1.00      1007\n",
            "\n"
          ]
        }
      ],
      "source": [
        "import pandas as pd\n",
        "import seaborn as sns\n",
        "import matplotlib.pyplot as plt\n",
        "from sklearn.metrics import confusion_matrix, classification_report\n",
        "\n",
        "def print_confusion_matrix(y_true, y_pred, report=True):\n",
        "    labels = sorted(list(set(y_true)))\n",
        "    cmx_data = confusion_matrix(y_true, y_pred, labels=labels)\n",
        "\n",
        "    df_cmx = pd.DataFrame(cmx_data, index=labels, columns=labels)\n",
        "\n",
        "    fig, ax = plt.subplots(figsize=(7, 6))\n",
        "    sns.heatmap(df_cmx, annot=True, fmt='g' ,square=False)\n",
        "    ax.set_ylim(len(set(y_true)), 0)\n",
        "    plt.show()\n",
        "\n",
        "    if report:\n",
        "        print('Classification Report')\n",
        "        print(classification_report(y_test, y_pred))\n",
        "\n",
        "Y_pred = model.predict(X_test)\n",
        "y_pred = np.argmax(Y_pred, axis=1)\n",
        "\n",
        "print_confusion_matrix(y_test, y_pred)"
      ]
    },
    {
      "cell_type": "code",
      "execution_count": null,
      "metadata": {
        "colab": {
          "base_uri": "https://localhost:8080/"
        },
        "id": "M88qDLoVfzQ0",
        "outputId": "a76536a9-0aff-426c-ca9c-17a445da9830"
      },
      "outputs": [
        {
          "name": "stderr",
          "output_type": "stream",
          "text": [
            "/usr/local/lib/python3.10/dist-packages/keras/src/engine/training.py:3103: UserWarning: You are saving your model as an HDF5 file via `model.save()`. This file format is considered legacy. We recommend using instead the native Keras format, e.g. `model.save('my_model.keras')`.\n",
            "  saving_api.save_model(\n"
          ]
        }
      ],
      "source": [
        "# Save as a model dedicated to inference\n",
        "model.save(model_save_path, include_optimizer=False)"
      ]
    },
    {
      "cell_type": "code",
      "execution_count": null,
      "metadata": {
        "colab": {
          "base_uri": "https://localhost:8080/"
        },
        "id": "xHWppilof5Bp",
        "outputId": "1771a3b6-162c-4b76-e566-c8411bdee20c"
      },
      "outputs": [
        {
          "data": {
            "text/plain": [
              "6596"
            ]
          },
          "execution_count": 75,
          "metadata": {},
          "output_type": "execute_result"
        }
      ],
      "source": [
        "# Transform model (quantization)\n",
        "\n",
        "converter = tf.lite.TFLiteConverter.from_keras_model(model)\n",
        "converter.optimizations = [tf.lite.Optimize.DEFAULT]\n",
        "tflite_quantized_model = converter.convert()\n",
        "\n",
        "open(tflite_save_path, 'wb').write(tflite_quantized_model)"
      ]
    },
    {
      "cell_type": "code",
      "execution_count": null,
      "metadata": {
        "id": "WaiyfVG8gPu5"
      },
      "outputs": [],
      "source": [
        "interpreter = tf.lite.Interpreter(model_path=tflite_save_path)\n",
        "interpreter.allocate_tensors()"
      ]
    },
    {
      "cell_type": "code",
      "execution_count": null,
      "metadata": {
        "id": "jT_acvdvgUg9"
      },
      "outputs": [],
      "source": [
        "# Get I / O tensor\n",
        "input_details = interpreter.get_input_details()\n",
        "output_details = interpreter.get_output_details()"
      ]
    },
    {
      "cell_type": "code",
      "execution_count": null,
      "metadata": {
        "id": "fEZqlwp9gWrX"
      },
      "outputs": [],
      "source": [
        "interpreter.set_tensor(input_details[0]['index'], np.array([X_test[0]]))"
      ]
    },
    {
      "cell_type": "code",
      "execution_count": null,
      "metadata": {
        "colab": {
          "base_uri": "https://localhost:8080/"
        },
        "id": "udgM76s6gYPx",
        "outputId": "e6d217c4-da41-4add-f75b-a921d44b3f94"
      },
      "outputs": [
        {
          "name": "stdout",
          "output_type": "stream",
          "text": [
            "CPU times: user 532 µs, sys: 37 µs, total: 569 µs\n",
            "Wall time: 499 µs\n"
          ]
        }
      ],
      "source": [
        "%%time\n",
        "# Inference implementation\n",
        "interpreter.invoke()\n",
        "tflite_results = interpreter.get_tensor(output_details[0]['index'])"
      ]
    },
    {
      "cell_type": "code",
      "execution_count": null,
      "metadata": {
        "colab": {
          "base_uri": "https://localhost:8080/"
        },
        "id": "XL_mb0W2gaW5",
        "outputId": "68e56414-7de7-4771-ce4d-8d179a3324fb"
      },
      "outputs": [
        {
          "name": "stdout",
          "output_type": "stream",
          "text": [
            "[2.0917379e-10 4.7683486e-07 9.9999952e-01 1.7317962e-08]\n",
            "2\n"
          ]
        }
      ],
      "source": [
        "print(np.squeeze(tflite_results))\n",
        "print(np.argmax(np.squeeze(tflite_results)))"
      ]
    },
    {
      "cell_type": "code",
      "execution_count": null,
      "metadata": {
        "id": "f03sTI_SGY4Q"
      },
      "outputs": [],
      "source": []
    }
  ],
  "metadata": {
    "colab": {
      "provenance": []
    },
    "kernelspec": {
      "display_name": "Python 3",
      "name": "python3"
    },
    "language_info": {
      "name": "python"
    }
  },
  "nbformat": 4,
  "nbformat_minor": 0
}
